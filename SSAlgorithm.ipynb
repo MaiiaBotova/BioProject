{
 "cells": [
  {
   "cell_type": "code",
   "execution_count": null,
   "metadata": {},
   "outputs": [],
   "source": [
    "Левин, Робсон и Гарнье хитрюги - они в своей статьте считали расстояние следующим образом: \n",
    "два семимера друг над другом и считаем посимвольное расстояние между АК. Затем эти расстояния суммируем (просто расстояние Хэмминга)"
   ]
  },
  {
   "cell_type": "code",
   "execution_count": 1,
   "metadata": {},
   "outputs": [],
   "source": [
    "# матрица расстояний между АК\n",
    "# индексируем АК для простоты обращения с матрицей\n",
    "AminoAcidsDictionary={'G': 0, \n",
    "                      'P': 1, \n",
    "                      'D': 2, \n",
    "                      'E': 3, \n",
    "                      'A': 4, \n",
    "                      'N': 5, \n",
    "                      'Q': 6, \n",
    "                      'S': 7, \n",
    "                      'T': 8, \n",
    "                      'K': 9, \n",
    "                      'R': 10, \n",
    "                      'H': 11, \n",
    "                      'V': 12,\n",
    "                      'I': 13,\n",
    "                      'M': 14,\n",
    "                      'C': 15,\n",
    "                      'L': 16,\n",
    "                      'F': 17,\n",
    "                      'Y': 18,\n",
    "                      'W': 19}\n",
    "\n",
    "Matrix=[[2, 0, 0, 0, 0, 0, 0, 0, 0, 0, 0, 0, -1, -1, -1, 0, -1, -1,-1, -1],\n",
    "        [0, 3, 0, -1, -1, 0, 0, 0, 0, 0, 0, 0, -1, -1, -1, 0, -1, -1, -1, -1],\n",
    "        [0, 0, 2, 1, 0, 1, 0, 0, 0, 0, 0, 0, -1, -1, -1, 0, -1, -1, -1, -1],\n",
    "        [0, -1, 1, 2, 1, 0, 1, 0, 0, 0, 0, 0, -1, -1, -1, 0, -1, -1, -1, -1],\n",
    "        [0, -1, 0, 1, 2, 0, 0, 1, 0, 0, 0, 0, 0, 0, 0, 0, 0, -1, -1, -1],\n",
    "        [0, 0, 1, 0, 0, 3, 1, 0, 0, 1, 0, 0, -1, -1, -1, 0, -1, -1, -1, -1],\n",
    "        [0, 0, 0, 1, 0, 1, 2, 0, 0, 0, 0, 0, -1, -1, -1, 0, -1, -1, -1, -1],\n",
    "        [0, 0, 0, 0, 1, 0, 0, 2, 0, 0, 0, 0, -1, -1, -1, 0, -1, -1, -1, -1],\n",
    "        [0, 0, 0, 0, 0, 0, 0, 0, 2, 0, 0, 0, 0, 0, 0, 0, 0, -1, -1, -1],\n",
    "        [0, 0, 0, 0, 0, 1, 0, 0, 0, 2, 1, 0, -1, -1, -1, 0, -1, -1, -1, -1],\n",
    "        [0, 0, 0, 0, 0, 0, 0, 0, 0, 1, 2, 0, -1, -1, -1, 0, -1, -1, -1, 0],\n",
    "        [0, 0, 0, 0, 0, 0, 0, 0, 0, 0, 0, 2, -1, -1, -1, 0, -1, -1, 0, -1],\n",
    "        [-1, -1, -1, -1, 0, -1, -1, -1, 0, -1, -1, -1, 2, 1, 0, 0, 1, 0, 0, 0],\n",
    "        [-1, -1, -1, -1, 0, -1, -1, -1, 0, -1, -1, -1, 1, 2, 0, 0, 0, 1, 0, 0],\n",
    "        [-1, -1, -1, -1, 0, -1, -1, -1, 0, -1, -1, -1, 0, 0, 2, 0, 2, 0, 0, 0],\n",
    "        [0, 0, 0, 0, 0, 0, 0, 0, 0, 0, 0, 0, 0, 0, 0, 2, 0, -1, -1, -1],\n",
    "        [-1, -1, -1, -1, 0, -1, -1, -1, 0, -1, -1, -1, 1, 0, 2, 0, 2, 0, 0, 0],\n",
    "        [-1, -1, -1, -1, -1, -1, -1, -1, -1, -1, -1, -1, 0, 1, 0, -1, 0, 2, 1, 0],\n",
    "        [-1, -1, -1, -1, -1, -1, -1, -1, -1, -1, -1, 0, 0, 0, 0, -1, 0, 1, 2, 0],\n",
    "        [-1, -1, -1, -1, -1, -1, -1, -1, -1, -1, 0, -1, 0, 0, 0, -1, 0, 0, 0, 2]]\n",
    "\n",
    "\n",
    "\n"
   ]
  },
  {
   "cell_type": "raw",
   "metadata": {},
   "source": [
    "\tG\tP\tD\tE\tA\tN\tQ\tS\tT\tK\tR\tH\tV\tI\tM\tC\tL\tF\tY\tW\n",
    "G\t2\t0\t0\t0\t0\t0\t0\t0\t0\t0\t0\t0\t-1\t-1\t-1\t0\t-1\t-1\t-1\t-1\n",
    "P\t0\t3\t0\t-1\t-1\t0\t0\t0\t0\t0\t0\t0\t-1\t-1\t-1\t0\t-1\t-1\t-1\t-1\n",
    "D\t0\t0\t2\t1\t0\t1\t0\t0\t0\t0\t0\t0\t-1\t-1\t-1\t0\t-1\t-1\t-1\t-1\n",
    "E\t0\t-1\t1\t2\t1\t0\t1\t0\t0\t0\t0\t0\t-1\t-1\t-1\t0\t-1\t-1\t-1\t-1\n",
    "A\t0\t-1\t0\t1\t2\t0\t0\t1\t0\t0\t0\t0\t0\t0\t0\t0\t0\t-1\t-1\t-1\n",
    "N\t0\t0\t1\t0\t0\t3\t1\t0\t0\t1\t0\t0\t-1\t-1\t-1\t0\t-1\t-1\t-1\t-1\n",
    "Q\t0\t0\t0\t1\t0\t1\t2\t0\t0\t0\t0\t0\t-1\t-1\t-1\t0\t-1\t-1\t-1\t-1\n",
    "S\t0\t0\t0\t0\t1\t0\t0\t2\t0\t0\t0\t0\t-1\t-1\t-1\t0\t-1\t-1\t-1\t-1\n",
    "T\t0\t0\t0\t0\t0\t0\t0\t0\t2\t0\t0\t0\t0\t0\t0\t0\t0\t-1\t-1\t-1\n",
    "K\t0\t0\t0\t0\t0\t1\t0\t0\t0\t2\t1\t0\t-1\t-1\t-1\t0\t-1\t-1\t-1\t-1\n",
    "R\t0\t0\t0\t0\t0\t0\t0\t0\t0\t1\t2\t0\t-1\t-1\t-1\t0\t-1\t-1\t-1\t0\n",
    "H\t0\t0\t0\t0\t0\t0\t0\t0\t0\t0\t0\t2\t-1\t-1\t-1\t0\t-1\t-1\t0\t-1\n",
    "V\t-1\t-1\t-1\t-1\t0\t-1\t-1\t-1\t0\t-1\t-1\t-1\t2\t1\t0\t0\t1\t0\t0\t0\n",
    "I\t-1\t-1\t-1\t-1\t0\t-1\t-1\t-1\t0\t-1\t-1\t-1\t1\t2\t0\t0\t0\t1\t0\t0\n",
    "M\t-1\t-1\t-1\t-1\t0\t-1\t-1\t-1\t0\t-1\t-1\t-1\t0\t0\t2\t0\t2\t0\t0\t0\n",
    "C\t0\t0\t0\t0\t0\t0\t0\t0\t0\t0\t0\t0\t0\t0\t0\t2\t0\t-1\t-1\t-1\n",
    "L\t-1\t-1\t-1\t-1\t0\t-1\t-1\t-1\t0\t-1\t-1\t-1\t1\t0\t2\t0\t2\t0\t0\t0\n",
    "F\t-1\t-1\t-1\t-1\t-1\t-1\t-1\t-1\t-1\t-1\t-1\t-1\t0\t1\t0\t-1\t0\t2\t1\t0\n",
    "Y\t-1\t-1\t-1\t-1\t-1\t-1\t-1\t-1\t-1\t-1\t-1\t0\t0\t0\t0\t-1\t0\t1\t2\t0\n",
    "W\t-1\t-1\t-1\t-1\t-1\t-1\t-1\t-1\t-1\t-1\t0\t-1\t0\t0\t0\t-1\t0\t0\t0\t2"
   ]
  },
  {
   "cell_type": "code",
   "execution_count": 26,
   "metadata": {},
   "outputs": [],
   "source": [
    "# функция, которая считает расстояние между строками в соответствии с матрицей расстояний\n",
    "# по этой статье file:///C:/Users/lenovo/Downloads/levin1986.pdf\n",
    "# Ограничение: обе строки есть семимеры\n",
    "def distance(string1, string2):\n",
    "    I=0 # номер строки в матрице АК\n",
    "    J=0 # номер столбца в матрице АК\n",
    "    score=0 #это расстояние между словами\n",
    "    for i in range(7):\n",
    "        I = AminoAcidsDictionary[string1[i]]\n",
    "        J = AminoAcidsDictionary[string2[i]]\n",
    "        score+=Matrix[I][J]\n",
    "    return score"
   ]
  },
  {
   "cell_type": "markdown",
   "metadata": {},
   "source": [
    " Пример из статьи: For example, if one considers the test sequence\n",
    " STNGIYW then the sequence ATSLVFW which\n",
    " has a score of 6 would be rejected whereas the sequence ATSGVFL which has a score of 7 would be\n",
    " accepted."
   ]
  },
  {
   "cell_type": "code",
   "execution_count": 3,
   "metadata": {},
   "outputs": [
    {
     "name": "stdout",
     "output_type": "stream",
     "text": [
      "6\n",
      "7\n"
     ]
    }
   ],
   "source": [
    "print(distance('STNGIYW', 'ATSLVFW'))\n",
    "print(distance('STNGIYW', 'ATSGVFL'))"
   ]
  },
  {
   "cell_type": "code",
   "execution_count": 32,
   "metadata": {},
   "outputs": [],
   "source": [
    "# функция для извлечения структуры белка\n",
    "# на вход поступает строка - имя файла, откуда извлекаем данные \n",
    "def extract(protein_name):\n",
    "    with open(protein_name) as f:\n",
    "        structure = parser.get_structure(file_name, path)# белок\n",
    "        res_names = [r.get_resname() for r in structure.get_residues()]  # аминокислотные остатки трехбуквенные\n",
    "        model = structure[0]\n",
    "        dssp = DSSP(model, path)\n",
    "        residue_keys = [dssp[k][1] for k in dssp.keys()]  # ключи чтобы обращаться к dssp, однобуквенные\n",
    "        secondary_structure = [dssp[k][2] for k in dssp.keys()] # элементы вторичной структуры\n",
    "    return zip(residue_keys, secondary_structure)"
   ]
  },
  {
   "cell_type": "code",
   "execution_count": 34,
   "metadata": {},
   "outputs": [
    {
     "name": "stdout",
     "output_type": "stream",
     "text": [
      "('S', '-') ('E', '-') ('G', '-') ('V', '-') ('L', 'S') ('N', '-') ('Q', '-') ('A', 'T') ('V', 'T') ('K', 'S') ('L', '-') ('P', '-') ('R', 'S') ('G', 'S') ('E', 'S') ('D', '-') ('E', 'H') ('N', 'H') ('E', 'H') ('W', 'H') ('L', 'H') ('A', 'H') ('V', 'H') ('H', 'H') ('C', 'H') ('V', 'H') ('D', 'H') ('F', 'H') ('Y', 'H') ('N', 'H') ('Q', 'H') ('I', 'H') ('N', 'H') ('M', 'H') ('L', 'H') ('Y', 'H') ('G', 'H') ('S', 'H') ('I', 'T') ('T', 'T') ('E', 'T') ('F', 'T') ('C', 'S') ('S', '-') ('P', 'T') ('Q', 'T') ('T', 'T') ('C', '-') ('P', 'S') ('R', 'S') ('M', '-') ('I', '-') ('A', 'S') ('T', 'S') ('N', 'T') ('E', 'T') ('Y', '-') ('E', '-') ('Y', '-') ('L', '-') ('W', 'B') ('A', '-') ('F', '-') ('Q', '-') ('P', '-') ('P', '-') ('V', 'B') ('S', '-') ('V', '-') ('S', '-') ('A', 'H') ('P', 'H') ('K', 'H') ('Y', 'H') ('V', 'H') ('E', 'H') ('C', 'H') ('L', 'H') ('M', 'H') ('R', 'H') ('W', 'H') ('C', 'H') ('Q', 'H') ('D', 'H') ('Q', 'H') ('F', 'H') ('D', 'S') ('D', '-') ('E', 'T') ('S', 'T') ('L', 'T') ('F', 'S') ('P', '-') ('S', '-') ('K', 'S') ('V', 'T') ('T', 'T') ('G', '-') ('T', '-') ('F', '-') ('P', '-') ('E', 'T') ('G', 'T') ('F', 'H') ('I', 'I') ('Q', 'I') ('R', 'I') ('V', 'I') ('I', 'I') ('Q', 'H') ('P', 'H') ('I', 'H') ('L', 'H') ('R', 'H') ('R', 'H') ('L', 'H') ('F', 'H') ('R', 'H') ('V', 'H') ('Y', 'H') ('A', 'H') ('H', 'H') ('I', 'H') ('Y', 'H') ('C', 'H') ('H', 'H') ('H', 'H') ('F', 'H') ('N', 'H') ('E', 'H') ('I', 'H') ('L', 'H') ('E', 'T') ('L', 'T') ('N', 'T') ('L', '-') ('Q', 'H') ('T', 'H') ('V', 'H') ('L', 'H') ('N', 'H') ('T', 'H') ('S', 'H') ('F', 'H') ('R', 'H') ('H', 'H') ('F', 'H') ('C', 'H') ('L', 'H') ('F', 'H') ('A', 'H') ('Q', 'H') ('E', 'H') ('F', 'T') ('E', 'T') ('L', '-') ('L', 'S') ('R', '-') ('P', 'G') ('A', 'G') ('D', 'G') ('F', 'G') ('G', '-') ('P', 'G') ('L', 'G') ('L', 'G') ('E', 'T') ('L', 'G') ('V', 'G') ('M', 'G') ('E', 'G') ('L', '-') ('R', '-') ('S', '-') ('N', '-') ('K', 'S') ('T', 'S') ('Q', 'H') ('R', 'H') ('V', 'H') ('V', 'H') ('S', 'H') ('V', 'H') ('C', 'H') ('K', 'H') ('M', 'H') ('Y', 'H') ('F', 'H') ('L', 'H') ('E', 'H') ('H', 'H') ('Y', 'H') ('C', 'H') ('D', 'H') ('M', 'H') ('F', 'H') ('D', 'H') ('Y', 'H') ('V', 'H') ('I', 'H') ('S', 'H') ('R', 'H') ('R', 'H') ('Q', 'H') ('R', 'H') ('T', 'H') ('K', 'H') ('Q', 'H') ('V', 'H') ('L', 'H') ('E', 'H') ('Y', 'H') ('L', 'H') ('Q', 'H') ('Q', 'H') ('Q', 'T') ('S', 'T') ('Q', 'S') ('L', 'S') ('P', 'T') ('N', 'T') ('S', '-') ('D', '-') ('Q', 'T') ('I', 'T') ('K', 'H') ('L', 'H') ('N', 'H') ('E', 'H') ('E', 'H') ('W', 'H') ('S', 'H') ('S', 'H') ('Y', 'H') ('L', 'H') ('Q', 'H') ('R', 'H') ('E', 'H') ('H', 'H') ('Q', 'H') ('V', 'H') ('L', 'H') ('R', 'H') ('K', 'T') ('R', 'T') ('R', 'T') ('L', '-') ('K', '-') ('P', '-')\n"
     ]
    }
   ],
   "source": [
    "print(*extract('4p74.pdb'))"
   ]
  },
  {
   "cell_type": "code",
   "execution_count": 25,
   "metadata": {
    "scrolled": false
   },
   "outputs": [],
   "source": [
    "# создаем словарь вторичных структур по известным белкам\n",
    "import math\n",
    "import os\n",
    "from Bio.PDB.PDBParser import PDBParser\n",
    "from Bio.PDB import DSSP\n",
    "import warnings\n",
    "warnings.filterwarnings('ignore')\n",
    "parser = PDBParser(PERMISSIVE=1)\n",
    "\n",
    "#создаем словарь вторичных структур, куда записываем ключи - семимеры АК, значения - структура\n",
    "structure_dict={} \n",
    "# считываем файлы из папки Test_folder\n",
    "for file_name in os.listdir('Test_folder'):\n",
    "    path=os.path.join('Test_folder', file_name)\n",
    "    with open(path) as f:\n",
    "        structure = parser.get_structure(file_name, path)# белок\n",
    "        res_names = [r.get_resname() for r in structure.get_residues()]  # аминокислотные остатки трехбуквенные\n",
    "        model = structure[0]\n",
    "        dssp = DSSP(model, path)\n",
    "        residue_keys = [dssp[k][1] for k in dssp.keys()]  # ключи чтобы обращаться к dssp, однобуквенные\n",
    "        secondary_structure = [dssp[k][2] for k in dssp.keys()] # элементы вторичной структуры\n",
    "        for i in range(len(residue_keys)-6):\n",
    "            s_key=''.join(residue_keys[i:i+7])\n",
    "            s_value=''.join(secondary_structure[i:i+7])\n",
    "            structure_dict[s_key]=s_value # заполнили в словарь значения семимер: структура\n",
    "\n",
    "            \n",
    "            \n",
    "            \n",
    "# print('res_names', res_names)\n",
    "# print('residue_keys', residue_keys)\n",
    "# print('secondary_structure', secondary_structure)\n",
    "# print('structure_dict', structure_dict)\n",
    "\n"
   ]
  },
  {
   "cell_type": "code",
   "execution_count": 5,
   "metadata": {},
   "outputs": [],
   "source": [
    "\n",
    "# Теперь будем считать расстояния между семимерами    \n",
    "max_dist_list=[]\n",
    "# считываем файл, структуру которого хотим предсказать\n",
    "with open('4p74.pdb') as f:\n",
    "    structure = parser.get_structure(file_name, path)# белок\n",
    "    res_names = [r.get_resname() for r in structure.get_residues()]  # аминокислотные остатки трехбуквенные\n",
    "    model = structure[0]\n",
    "    dssp = DSSP(model, path)\n",
    "    residue_keys = [dssp[k][1] for k in dssp.keys()]  # ключи чтобы обращаться к dssp, однобуквенные АК\n",
    "    protein_secondary_structure = [dssp[k][2] for k in dssp.keys()] # вторичная структура для дальнейшей проверки\n",
    "    distance_list=[] # список максимальных расстояний для каждого семимера\n",
    "    sevenseq=''\n",
    "    for i in range(len(residue_keys)-6):\n",
    "        sevenseq=residue_keys[i:i+7] #считали семимер\n",
    "        max_distance=6 #ограничение на схожесть структур\n",
    "        for k in structure_dict.keys(): #перебираем словарь вторичных структур\n",
    "            if distance(sevenseq, k)>max_distance:\n",
    "                for j in range(7):\n",
    "                    element=(i+j, structure_dict[k][j], distance(sevenseq, k)) #записываем номер АК, вторичную структуру и расстояние\n",
    "                    distance_list.append(element) \n",
    "    \n",
    "# print(distance_list)"
   ]
  },
  {
   "cell_type": "markdown",
   "metadata": {},
   "source": [
    "Теперь будем анализировать, какая структура наиболее вероятна. \n",
    "Чтобы не было overprediction, Левин ввел нормировочные коэффициенты для различных элементов вторичной структуры.\n",
    "Значения в столбце «H» уменьшены на 20%, значения в столбце «C» увеличены на 5%, значения в столбце «Т» увеличены на 40% и в столбце «S» увеличены на 30%."
   ]
  },
  {
   "cell_type": "raw",
   "metadata": {},
   "source": [
    "H\tAlpha helix\n",
    "B\tBeta bridge\n",
    "E\tStrand\n",
    "G\tHelix-3\n",
    "I\tHelix-5\n",
    "T\tTurn\n",
    "S\tBend\n",
    "-(C)    Coil"
   ]
  },
  {
   "cell_type": "code",
   "execution_count": 6,
   "metadata": {},
   "outputs": [],
   "source": [
    "Total_score={} #конечный словарь подсчета структур для каждой АК\n",
    "for res_number in range(len(residue_keys)):\n",
    "    summ_H=0\n",
    "    summ_B=0\n",
    "    summ_E=0\n",
    "    summ_G=0\n",
    "    summ_I=0\n",
    "    summ_T=0\n",
    "    summ_S=0\n",
    "    summ_C=0\n",
    "    for el in distance_list: #подсчетколичества совпадов структур\n",
    "        if el[0]==res_number and el[1]=='H':\n",
    "            summ_H+=el[2]*0.8\n",
    "        if el[0]==res_number and el[1]=='B':\n",
    "            summ_B+=el[2]\n",
    "        if el[0]==res_number and el[1]=='E':\n",
    "            summ_E+=el[2]\n",
    "        if el[0]==res_number and el[1]=='G':\n",
    "            summ_G+=el[2]\n",
    "        if el[0]==res_number and el[1]=='I':\n",
    "            summ_I+=el[2]\n",
    "        if el[0]==res_number and el[1]=='T':\n",
    "            summ_T+=el[2]*1.4\n",
    "        if el[0]==res_number and el[1]=='S':\n",
    "            summ_S+=el[2]*1.3\n",
    "        if el[0]==res_number and el[1]=='-':\n",
    "            summ_C+=el[2]*1.05\n",
    "    Total_score[res_number]=(summ_H, summ_B, summ_E, summ_G, summ_I, summ_T, summ_S, summ_C)\n",
    "\n",
    "# for res_number in range(len(residue_keys)):\n",
    "#     print(res_number, Total_score[res_number])"
   ]
  },
  {
   "cell_type": "markdown",
   "metadata": {},
   "source": [
    "Теперь надо в каждой строке выбрать максимальное число. Его позиция будет соответствовать наиболее вероятной структуре."
   ]
  },
  {
   "cell_type": "code",
   "execution_count": 18,
   "metadata": {},
   "outputs": [
    {
     "name": "stdout",
     "output_type": "stream",
     "text": [
      "['-', '-', 'H', 'H', 'H', 'H', 'H', 'H', 'H', 'S', '-', '-', 'S', 'S', 'S', '-', 'H', 'H', 'H', 'H', 'H', 'H', 'H', 'H', 'H', 'H', 'H', 'H', 'H', 'H', 'H', 'H', 'H', 'E', 'E', 'E', 'H', 'H', 'T', 'T', 'T', 'T', 'S', '-', 'T', 'T', 'T', '-', '-', 'S', '-', 'E', 'S', 'S', 'T', 'T', '-', '-', '-', '-', 'B', '-', '-', '-', '-', '-', 'E', '-', '-', '-', 'H', '-', 'H', 'H', 'H', 'H', 'H', 'H', 'H', 'H', 'H', 'H', 'H', 'H', 'H', 'H', 'S', '-', 'T', 'T', 'T', 'S', '-', '-', 'S', 'T', 'T', '-', '-', '-', '-', 'T', 'T', 'H', 'I', 'I', 'I', 'I', 'I', 'H', 'H', 'H', 'H', 'H', 'H', 'H', 'H', 'H', 'H', 'H', 'H', 'H', 'H', 'H', 'H', 'H', 'H', 'H', 'H', 'H', 'H', 'H', 'T', 'T', 'T', '-', 'H', 'H', 'H', 'H', 'H', 'H', 'H', 'H', 'H', 'H', 'H', 'H', 'H', 'H', 'H', 'H', 'H', 'T', 'T', '-', 'S', '-', '-', '-', 'G', 'G', '-', 'G', 'G', 'H', 'T', 'H', 'H', 'E', 'G', '-', '-', '-', '-', 'S', 'S', 'H', 'H', 'H', 'H', 'H', '-', 'H', 'H', 'H', 'H', 'H', 'H', 'H', 'H', 'H', 'H', 'H', 'H', 'H', 'H', 'H', 'H', 'H', 'H', 'H', 'H', 'H', 'H', 'H', 'H', 'H', 'H', 'H', 'H', 'H', 'H', 'H', 'H', 'T', 'T', 'S', '-', 'T', 'T', '-', '-', 'T', 'T', 'H', 'H', 'H', 'H', 'H', 'H', 'H', 'H', 'H', 'H', 'H', 'H', 'H', 'H', 'H', 'H', 'H', 'H', 'T', 'H', 'H', '-', '-', 'T']\n"
     ]
    }
   ],
   "source": [
    "index={0: 'H',\n",
    "      1: 'B',\n",
    "      2: 'E',\n",
    "      3: 'G',\n",
    "      4: 'I',\n",
    "      5: 'T',\n",
    "      6: 'S',\n",
    "      7: '-'}\n",
    "result=[]\n",
    "for res_number in range(len(residue_keys)):\n",
    "    prediction=max(Total_score[res_number])\n",
    "    for idx, el in enumerate(Total_score[res_number]):\n",
    "        if el==prediction:\n",
    "            result.append(index[idx])\n",
    "#             print(res_number, index[idx])\n",
    "print( result)"
   ]
  },
  {
   "cell_type": "code",
   "execution_count": 7,
   "metadata": {},
   "outputs": [
    {
     "name": "stdout",
     "output_type": "stream",
     "text": [
      "['-', '-', '-', '-', 'S', '-', '-', 'T', 'T', 'S', '-', '-', 'S', 'S', 'S', '-', 'H', 'H', 'H', 'H', 'H', 'H', 'H', 'H', 'H', 'H', 'H', 'H', 'H', 'H', 'H', 'H', 'H', 'H', 'H', 'H', 'H', 'H', 'T', 'T', 'T', 'T', 'S', '-', 'T', 'T', 'T', '-', 'S', 'S', '-', '-', 'S', 'S', 'T', 'T', '-', '-', '-', '-', 'B', '-', '-', '-', '-', '-', 'B', '-', '-', '-', 'H', 'H', 'H', 'H', 'H', 'H', 'H', 'H', 'H', 'H', 'H', 'H', 'H', 'H', 'H', 'H', 'S', '-', 'T', 'T', 'T', 'S', '-', '-', 'S', 'T', 'T', '-', '-', '-', '-', 'T', 'T', 'H', 'I', 'I', 'I', 'I', 'I', 'H', 'H', 'H', 'H', 'H', 'H', 'H', 'H', 'H', 'H', 'H', 'H', 'H', 'H', 'H', 'H', 'H', 'H', 'H', 'H', 'H', 'H', 'H', 'T', 'T', 'T', '-', 'H', 'H', 'H', 'H', 'H', 'H', 'H', 'H', 'H', 'H', 'H', 'H', 'H', 'H', 'H', 'H', 'H', 'T', 'T', '-', 'S', '-', 'G', 'G', 'G', 'G', '-', 'G', 'G', 'G', 'T', 'G', 'G', 'G', 'G', '-', '-', '-', '-', 'S', 'S', 'H', 'H', 'H', 'H', 'H', 'H', 'H', 'H', 'H', 'H', 'H', 'H', 'H', 'H', 'H', 'H', 'H', 'H', 'H', 'H', 'H', 'H', 'H', 'H', 'H', 'H', 'H', 'H', 'H', 'H', 'H', 'H', 'H', 'H', 'H', 'H', 'H', 'H', 'T', 'T', 'S', 'S', 'T', 'T', '-', '-', 'T', 'T', 'H', 'H', 'H', 'H', 'H', 'H', 'H', 'H', 'H', 'H', 'H', 'H', 'H', 'H', 'H', 'H', 'H', 'H', 'T', 'T', 'T', '-', '-', '-']\n"
     ]
    }
   ],
   "source": [
    "print( protein_secondary_structure)"
   ]
  },
  {
   "cell_type": "markdown",
   "metadata": {},
   "source": [
    "Собственно, результат получен. Теперь интересно сравнить, насколько строки отличаются."
   ]
  },
  {
   "cell_type": "code",
   "execution_count": 13,
   "metadata": {},
   "outputs": [],
   "source": [
    "# расстояние Левенштейна\n",
    "def Levenshtein_distance(a, b):\n",
    "    \"Calculates the Levenshtein distance between a and b.\"\n",
    "    n, m = len(a), len(b)\n",
    "    if n > m:\n",
    "        # Make sure n <= m, to use O(min(n,m)) space\n",
    "        a, b = b, a\n",
    "        n, m = m, n\n",
    "\n",
    "    current_row = range(n+1) # Keep current and previous row, not entire matrix\n",
    "    for i in range(1, m+1):\n",
    "        previous_row, current_row = current_row, [i]+[0]*n\n",
    "        for j in range(1,n+1):\n",
    "            add, delete, change = previous_row[j]+1, current_row[j-1]+1, previous_row[j-1]\n",
    "            if a[j-1] != b[i-1]:\n",
    "                change += 1\n",
    "            current_row[j] = min(add, delete, change)\n",
    "\n",
    "    return current_row[n]"
   ]
  },
  {
   "cell_type": "code",
   "execution_count": 14,
   "metadata": {},
   "outputs": [
    {
     "name": "stdout",
     "output_type": "stream",
     "text": [
      "2\n",
      "5\n",
      "5\n"
     ]
    }
   ],
   "source": [
    "s1='FATHER'\n",
    "s2='FAZER'\n",
    "print(Levenshtein_distance(s1, s2))\n",
    "print(Levenshtein_distance('STNGIYW', 'ATSLVFW'))\n",
    "print(Levenshtein_distance('STNGIYW', 'ATSGVFL'))\n"
   ]
  },
  {
   "cell_type": "code",
   "execution_count": 15,
   "metadata": {},
   "outputs": [],
   "source": [
    "# алгоритм Вагнера-Фишера\n",
    "def wagner_fisher(s1,  s2):   \n",
    "    d = {}\n",
    "    if len(s1) > len(s2):\n",
    "        s1, s2 = s2, s1\n",
    "    for i in range(-1, len(s1) + 1):\n",
    "        d[(i, -1)] = i + 1\n",
    "    for j in range(-1, len(s2) + 1):\n",
    "        d[(-1, j)] = j + 1\n",
    "    for i in range(len(s1)):\n",
    "        for j in range(len(s2)):\n",
    "            if s1[i] == s2[j]:\n",
    "                d[i, j] = d[i - 1, j - 1]\n",
    "            else:\n",
    "                d[(i, j)] = min(\n",
    "                    d[(i - 1, j)] + 1,  \n",
    "                    d[(i, j - 1)] + 1,  \n",
    "                    d[(i - 1, j - 1)] + 1,\n",
    "                )\n",
    "    return d[len(s1) - 1, len(s2) - 1]"
   ]
  },
  {
   "cell_type": "code",
   "execution_count": 16,
   "metadata": {},
   "outputs": [
    {
     "name": "stdout",
     "output_type": "stream",
     "text": [
      "2\n",
      "5\n",
      "5\n"
     ]
    }
   ],
   "source": [
    "print(wagner_fisher(s1, s2))\n",
    "print(wagner_fisher('STNGIYW', 'ATSLVFW'))\n",
    "print(wagner_fisher('STNGIYW', 'ATSGVFL'))"
   ]
  },
  {
   "cell_type": "code",
   "execution_count": 19,
   "metadata": {},
   "outputs": [
    {
     "name": "stdout",
     "output_type": "stream",
     "text": [
      "25\n"
     ]
    }
   ],
   "source": [
    "struct_PDB=''.join(protein_secondary_structure)\n",
    "struct_experiment=''.join(result)\n",
    "print(Levenshtein_distance(struct_PDB, struct_experiment))"
   ]
  },
  {
   "cell_type": "markdown",
   "metadata": {},
   "source": [
    "Посчитаем классическое расстояние Хэмминга"
   ]
  },
  {
   "cell_type": "code",
   "execution_count": 23,
   "metadata": {},
   "outputs": [],
   "source": [
    "def Hamming_distance(s1, s2):\n",
    "    res=0\n",
    "    pos=[]\n",
    "    for i in range(len(s1)):\n",
    "        if s1[i]!=s2[i]:\n",
    "            res+=1\n",
    "            pos.append(i)\n",
    "    return res, pos"
   ]
  },
  {
   "cell_type": "code",
   "execution_count": 24,
   "metadata": {},
   "outputs": [
    {
     "name": "stdout",
     "output_type": "stream",
     "text": [
      "(25, [2, 3, 4, 5, 6, 7, 8, 33, 34, 35, 48, 51, 66, 71, 158, 159, 165, 167, 168, 169, 182, 218, 244, 245, 248])\n"
     ]
    }
   ],
   "source": [
    "print(Hamming_distance(struct_PDB, struct_experiment))"
   ]
  },
  {
   "cell_type": "markdown",
   "metadata": {},
   "source": [
    "Строки равной длины, расстояние как и по Левенштейну 25. "
   ]
  },
  {
   "cell_type": "markdown",
   "metadata": {},
   "source": [
    "Процент верно угаданных структур:"
   ]
  },
  {
   "cell_type": "code",
   "execution_count": 40,
   "metadata": {},
   "outputs": [
    {
     "name": "stdout",
     "output_type": "stream",
     "text": [
      "P = 0.8995983935742972\n"
     ]
    }
   ],
   "source": [
    "print('P =', (1 - int(Levenshtein_distance(struct_PDB, struct_experiment))/len(residue_keys)))"
   ]
  },
  {
   "cell_type": "code",
   "execution_count": null,
   "metadata": {},
   "outputs": [],
   "source": []
  }
 ],
 "metadata": {
  "kernelspec": {
   "display_name": "Python 3",
   "language": "python",
   "name": "python3"
  },
  "language_info": {
   "codemirror_mode": {
    "name": "ipython",
    "version": 3
   },
   "file_extension": ".py",
   "mimetype": "text/x-python",
   "name": "python",
   "nbconvert_exporter": "python",
   "pygments_lexer": "ipython3",
   "version": "3.6.6"
  }
 },
 "nbformat": 4,
 "nbformat_minor": 2
}
